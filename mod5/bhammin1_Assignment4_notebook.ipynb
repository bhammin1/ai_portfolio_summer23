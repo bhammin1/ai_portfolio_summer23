{
 "cells": [
  {
   "cell_type": "code",
   "execution_count": 135,
   "id": "014f8aaa",
   "metadata": {},
   "outputs": [],
   "source": [
    "import pandas as pd\n",
    "import numpy as np"
   ]
  },
  {
   "cell_type": "code",
   "execution_count": 2,
   "id": "28996955",
   "metadata": {},
   "outputs": [],
   "source": [
    "def load_data(path):\n",
    "    '''\n",
    "    Given a path (str) to a csv returns a pandas dataframe\n",
    "    '''\n",
    "    df = pd.read_csv(path)\n",
    "    return df"
   ]
  },
  {
   "cell_type": "code",
   "execution_count": 3,
   "id": "ca6ce6fa",
   "metadata": {},
   "outputs": [
    {
     "data": {
      "text/html": [
       "<div>\n",
       "<style scoped>\n",
       "    .dataframe tbody tr th:only-of-type {\n",
       "        vertical-align: middle;\n",
       "    }\n",
       "\n",
       "    .dataframe tbody tr th {\n",
       "        vertical-align: top;\n",
       "    }\n",
       "\n",
       "    .dataframe thead th {\n",
       "        text-align: right;\n",
       "    }\n",
       "</style>\n",
       "<table border=\"1\" class=\"dataframe\">\n",
       "  <thead>\n",
       "    <tr style=\"text-align: right;\">\n",
       "      <th></th>\n",
       "      <th>manufacturer_name</th>\n",
       "      <th>model_name</th>\n",
       "      <th>transmission</th>\n",
       "      <th>color</th>\n",
       "      <th>odometer_value</th>\n",
       "      <th>year_produced</th>\n",
       "      <th>engine_fuel</th>\n",
       "      <th>engine_has_gas</th>\n",
       "      <th>engine_type</th>\n",
       "      <th>engine_capacity</th>\n",
       "      <th>...</th>\n",
       "      <th>feature_1</th>\n",
       "      <th>feature_2</th>\n",
       "      <th>feature_3</th>\n",
       "      <th>feature_4</th>\n",
       "      <th>feature_5</th>\n",
       "      <th>feature_6</th>\n",
       "      <th>feature_7</th>\n",
       "      <th>feature_8</th>\n",
       "      <th>feature_9</th>\n",
       "      <th>duration_listed</th>\n",
       "    </tr>\n",
       "  </thead>\n",
       "  <tbody>\n",
       "    <tr>\n",
       "      <th>0</th>\n",
       "      <td>Subaru</td>\n",
       "      <td>Outback</td>\n",
       "      <td>automatic</td>\n",
       "      <td>silver</td>\n",
       "      <td>190000</td>\n",
       "      <td>2010</td>\n",
       "      <td>gasoline</td>\n",
       "      <td>False</td>\n",
       "      <td>gasoline</td>\n",
       "      <td>2.5</td>\n",
       "      <td>...</td>\n",
       "      <td>True</td>\n",
       "      <td>True</td>\n",
       "      <td>True</td>\n",
       "      <td>False</td>\n",
       "      <td>True</td>\n",
       "      <td>False</td>\n",
       "      <td>True</td>\n",
       "      <td>True</td>\n",
       "      <td>True</td>\n",
       "      <td>16</td>\n",
       "    </tr>\n",
       "    <tr>\n",
       "      <th>1</th>\n",
       "      <td>Subaru</td>\n",
       "      <td>Outback</td>\n",
       "      <td>automatic</td>\n",
       "      <td>blue</td>\n",
       "      <td>290000</td>\n",
       "      <td>2002</td>\n",
       "      <td>gasoline</td>\n",
       "      <td>False</td>\n",
       "      <td>gasoline</td>\n",
       "      <td>3.0</td>\n",
       "      <td>...</td>\n",
       "      <td>True</td>\n",
       "      <td>False</td>\n",
       "      <td>False</td>\n",
       "      <td>True</td>\n",
       "      <td>True</td>\n",
       "      <td>False</td>\n",
       "      <td>False</td>\n",
       "      <td>False</td>\n",
       "      <td>True</td>\n",
       "      <td>83</td>\n",
       "    </tr>\n",
       "    <tr>\n",
       "      <th>2</th>\n",
       "      <td>Subaru</td>\n",
       "      <td>Forester</td>\n",
       "      <td>automatic</td>\n",
       "      <td>red</td>\n",
       "      <td>402000</td>\n",
       "      <td>2001</td>\n",
       "      <td>gasoline</td>\n",
       "      <td>False</td>\n",
       "      <td>gasoline</td>\n",
       "      <td>2.5</td>\n",
       "      <td>...</td>\n",
       "      <td>True</td>\n",
       "      <td>False</td>\n",
       "      <td>False</td>\n",
       "      <td>False</td>\n",
       "      <td>False</td>\n",
       "      <td>False</td>\n",
       "      <td>False</td>\n",
       "      <td>True</td>\n",
       "      <td>True</td>\n",
       "      <td>151</td>\n",
       "    </tr>\n",
       "    <tr>\n",
       "      <th>3</th>\n",
       "      <td>Subaru</td>\n",
       "      <td>Impreza</td>\n",
       "      <td>mechanical</td>\n",
       "      <td>blue</td>\n",
       "      <td>10000</td>\n",
       "      <td>1999</td>\n",
       "      <td>gasoline</td>\n",
       "      <td>False</td>\n",
       "      <td>gasoline</td>\n",
       "      <td>3.0</td>\n",
       "      <td>...</td>\n",
       "      <td>False</td>\n",
       "      <td>False</td>\n",
       "      <td>False</td>\n",
       "      <td>False</td>\n",
       "      <td>False</td>\n",
       "      <td>False</td>\n",
       "      <td>False</td>\n",
       "      <td>False</td>\n",
       "      <td>False</td>\n",
       "      <td>86</td>\n",
       "    </tr>\n",
       "    <tr>\n",
       "      <th>4</th>\n",
       "      <td>Subaru</td>\n",
       "      <td>Legacy</td>\n",
       "      <td>automatic</td>\n",
       "      <td>black</td>\n",
       "      <td>280000</td>\n",
       "      <td>2001</td>\n",
       "      <td>gasoline</td>\n",
       "      <td>False</td>\n",
       "      <td>gasoline</td>\n",
       "      <td>2.5</td>\n",
       "      <td>...</td>\n",
       "      <td>True</td>\n",
       "      <td>False</td>\n",
       "      <td>True</td>\n",
       "      <td>True</td>\n",
       "      <td>False</td>\n",
       "      <td>False</td>\n",
       "      <td>False</td>\n",
       "      <td>False</td>\n",
       "      <td>True</td>\n",
       "      <td>7</td>\n",
       "    </tr>\n",
       "  </tbody>\n",
       "</table>\n",
       "<p>5 rows × 30 columns</p>\n",
       "</div>"
      ],
      "text/plain": [
       "  manufacturer_name model_name transmission   color  odometer_value  \\\n",
       "0            Subaru    Outback    automatic  silver          190000   \n",
       "1            Subaru    Outback    automatic    blue          290000   \n",
       "2            Subaru   Forester    automatic     red          402000   \n",
       "3            Subaru    Impreza   mechanical    blue           10000   \n",
       "4            Subaru     Legacy    automatic   black          280000   \n",
       "\n",
       "   year_produced engine_fuel  engine_has_gas engine_type  engine_capacity  \\\n",
       "0           2010    gasoline           False    gasoline              2.5   \n",
       "1           2002    gasoline           False    gasoline              3.0   \n",
       "2           2001    gasoline           False    gasoline              2.5   \n",
       "3           1999    gasoline           False    gasoline              3.0   \n",
       "4           2001    gasoline           False    gasoline              2.5   \n",
       "\n",
       "   ... feature_1  feature_2 feature_3 feature_4  feature_5  feature_6  \\\n",
       "0  ...      True       True      True     False       True      False   \n",
       "1  ...      True      False     False      True       True      False   \n",
       "2  ...      True      False     False     False      False      False   \n",
       "3  ...     False      False     False     False      False      False   \n",
       "4  ...      True      False      True      True      False      False   \n",
       "\n",
       "  feature_7  feature_8  feature_9  duration_listed  \n",
       "0      True       True       True               16  \n",
       "1     False      False       True               83  \n",
       "2     False       True       True              151  \n",
       "3     False      False      False               86  \n",
       "4     False      False       True                7  \n",
       "\n",
       "[5 rows x 30 columns]"
      ]
     },
     "execution_count": 3,
     "metadata": {},
     "output_type": "execute_result"
    }
   ],
   "source": [
    "carsDf = load_data(\"./cars.csv\")\n",
    "carsDf.head()"
   ]
  },
  {
   "cell_type": "code",
   "execution_count": 20,
   "id": "0e88f506",
   "metadata": {},
   "outputs": [
    {
     "data": {
      "text/plain": [
       "38531"
      ]
     },
     "execution_count": 20,
     "metadata": {},
     "output_type": "execute_result"
    }
   ],
   "source": [
    "carsDf.shape[0] # number of rows of the data"
   ]
  },
  {
   "cell_type": "code",
   "execution_count": 4,
   "id": "0f6398d3",
   "metadata": {},
   "outputs": [
    {
     "data": {
      "text/plain": [
       "manufacturer_name     object\n",
       "model_name            object\n",
       "transmission          object\n",
       "color                 object\n",
       "odometer_value         int64\n",
       "year_produced          int64\n",
       "engine_fuel           object\n",
       "engine_has_gas          bool\n",
       "engine_type           object\n",
       "engine_capacity      float64\n",
       "body_type             object\n",
       "has_warranty            bool\n",
       "state                 object\n",
       "drivetrain            object\n",
       "price_usd            float64\n",
       "is_exchangeable         bool\n",
       "location_region       object\n",
       "number_of_photos       int64\n",
       "up_counter             int64\n",
       "feature_0               bool\n",
       "feature_1               bool\n",
       "feature_2               bool\n",
       "feature_3               bool\n",
       "feature_4               bool\n",
       "feature_5               bool\n",
       "feature_6               bool\n",
       "feature_7               bool\n",
       "feature_8               bool\n",
       "feature_9               bool\n",
       "duration_listed        int64\n",
       "dtype: object"
      ]
     },
     "execution_count": 4,
     "metadata": {},
     "output_type": "execute_result"
    }
   ],
   "source": [
    "# Get info about the data\n",
    "carsDf.dtypes"
   ]
  },
  {
   "cell_type": "markdown",
   "id": "8bc25fdf",
   "metadata": {},
   "source": [
    "## Convert all Boolean Categorical (True and False) to binary (0 or 1)"
   ]
  },
  {
   "cell_type": "code",
   "execution_count": 165,
   "id": "c30fb1b3",
   "metadata": {},
   "outputs": [],
   "source": [
    "def bool_to_bin(df):\n",
    "    '''\n",
    "    Converts all True or False Values into binary (0 or 1)\n",
    "    Returns a new df with the updates\n",
    "    '''\n",
    "    df_updated = df.copy(deep=True) # make a copy \n",
    "    for col in df.columns:\n",
    "        if df[col].dtype == bool:\n",
    "            df_updated[col] = df[col].astype(int)\n",
    "    return df_updated\n",
    "    "
   ]
  },
  {
   "cell_type": "code",
   "execution_count": 6,
   "id": "c440dc3e",
   "metadata": {},
   "outputs": [
    {
     "data": {
      "text/plain": [
       "manufacturer_name     object\n",
       "model_name            object\n",
       "transmission          object\n",
       "color                 object\n",
       "odometer_value         int64\n",
       "year_produced          int64\n",
       "engine_fuel           object\n",
       "engine_has_gas         int64\n",
       "engine_type           object\n",
       "engine_capacity      float64\n",
       "body_type             object\n",
       "has_warranty           int64\n",
       "state                 object\n",
       "drivetrain            object\n",
       "price_usd            float64\n",
       "is_exchangeable        int64\n",
       "location_region       object\n",
       "number_of_photos       int64\n",
       "up_counter             int64\n",
       "feature_0              int64\n",
       "feature_1              int64\n",
       "feature_2              int64\n",
       "feature_3              int64\n",
       "feature_4              int64\n",
       "feature_5              int64\n",
       "feature_6              int64\n",
       "feature_7              int64\n",
       "feature_8              int64\n",
       "feature_9              int64\n",
       "duration_listed        int64\n",
       "dtype: object"
      ]
     },
     "execution_count": 6,
     "metadata": {},
     "output_type": "execute_result"
    }
   ],
   "source": [
    "carsDf_bin = bool_to_bin(carsDf)\n",
    "# check results visually\n",
    "carsDf_bin.dtypes"
   ]
  },
  {
   "cell_type": "code",
   "execution_count": 7,
   "id": "3d90605f",
   "metadata": {},
   "outputs": [],
   "source": [
    "# verify no bool columns exists\n",
    "for col in carsDf_bin:\n",
    "    assert(carsDf_bin[col].dtype != bool) "
   ]
  },
  {
   "cell_type": "code",
   "execution_count": 8,
   "id": "4410daf6",
   "metadata": {},
   "outputs": [],
   "source": [
    "# if everything is valid update original df\n",
    "carsDf = carsDf_bin.copy(deep=True)"
   ]
  },
  {
   "cell_type": "markdown",
   "id": "5ffa57ae",
   "metadata": {},
   "source": [
    "## Remove Records with Missing Data"
   ]
  },
  {
   "cell_type": "code",
   "execution_count": 16,
   "id": "c1dadaf0",
   "metadata": {},
   "outputs": [],
   "source": [
    "def remove_missing(df):\n",
    "    '''\n",
    "    Removes all records that contain missing values\n",
    "    This will include categorical and numeric data\n",
    "    A new df is returned rather than updated the one passed in\n",
    "    '''\n",
    "    df_copy = df.copy(deep=True)\n",
    "    df_copy.dropna() # removes all records with nan (missing values)\n",
    "    return df_copy"
   ]
  },
  {
   "cell_type": "code",
   "execution_count": 21,
   "id": "fc7dd2fa",
   "metadata": {},
   "outputs": [
    {
     "data": {
      "text/plain": [
       "(38531, 38531)"
      ]
     },
     "execution_count": 21,
     "metadata": {},
     "output_type": "execute_result"
    }
   ],
   "source": [
    "carsDf_drop_missing = remove_missing(carsDf)\n",
    "carsDf.shape[0], carsDf_drop_missing.shape[0] # no missing values found. Matches documentation description of each feature"
   ]
  },
  {
   "cell_type": "code",
   "execution_count": 46,
   "id": "0e3bcba5",
   "metadata": {},
   "outputs": [],
   "source": [
    "# if everything is valid update original df\n",
    "carsDf = carsDf_drop_missing.copy(deep=True)"
   ]
  },
  {
   "cell_type": "markdown",
   "id": "a9e3a355",
   "metadata": {},
   "source": [
    "# Update String Categorical Data "
   ]
  },
  {
   "cell_type": "code",
   "execution_count": 70,
   "id": "bf038471",
   "metadata": {},
   "outputs": [
    {
     "name": "stdout",
     "output_type": "stream",
     "text": [
      "['manufacturer_name', 'model_name', 'transmission', 'color', 'engine_fuel', 'engine_type', 'body_type', 'state', 'drivetrain', 'location_region']\n"
     ]
    }
   ],
   "source": [
    "# Find all remaining columns\n",
    "str_cols = []\n",
    "threshold_mapping = {}\n",
    "for col in carsDf:\n",
    "    if carsDf[col].dtypes == object:\n",
    "        str_cols.append(col)\n",
    "print(str_cols)"
   ]
  },
  {
   "cell_type": "markdown",
   "id": "2bdd03dd",
   "metadata": {},
   "source": [
    "## Combine Levels\n",
    "- Convert Low Frequency Column Values to Other "
   ]
  },
  {
   "cell_type": "code",
   "execution_count": 83,
   "id": "63e15d73",
   "metadata": {},
   "outputs": [],
   "source": [
    "def other_columns_describe(df, col, printInd):\n",
    "    '''\n",
    "    Function makes a count data frame of unique values of a column \n",
    "    and prints the results in order if printInd is set to True\n",
    "    '''\n",
    "    # Group by the unique values and provide a count\n",
    "    countsDf = df.groupby([col], dropna=False).size().reset_index(name='counts')\n",
    "    countsDf[\"rel_freq\"] = (countsDf[\"counts\"] / countsDf[\"counts\"].sum() ) * 100 # make a relative frequency\n",
    "    \n",
    "    # figure out the threshold\n",
    "    if printInd:\n",
    "        print(countsDf.sort_values(by=[\"rel_freq\"], ascending = True))\n",
    "    return countsDf\n",
    "    "
   ]
  },
  {
   "cell_type": "code",
   "execution_count": 167,
   "id": "a2f54854",
   "metadata": {},
   "outputs": [],
   "source": [
    "def other_columns(df, col, threshold):\n",
    "    '''\n",
    "    Updates columns with frequency below a threshold to be labeled as other\n",
    "    New df returned\n",
    "    '''\n",
    "    df_copy = df.copy(deep=True) # make a copy\n",
    "    # Group by the unique values and provide a count\n",
    "    countDf= other_columns_describe(df, col, False)\n",
    "    \n",
    "    # get all col values below the threshold\n",
    "    countDf = countDf.loc[countDf[\"rel_freq\"] < threshold]\n",
    "    other_values = countDf[col].tolist()\n",
    "    \n",
    "    # update those columns to be other type\n",
    "    df_copy.loc[(df_copy[col].isin(other_values)), col] = \"other\"\n",
    "    \n",
    "    return df_copy"
   ]
  },
  {
   "cell_type": "code",
   "execution_count": 84,
   "id": "720eabf6",
   "metadata": {},
   "outputs": [
    {
     "name": "stdout",
     "output_type": "stream",
     "text": [
      "   manufacturer_name  counts   rel_freq\n",
      "51               ЗАЗ      42   0.109003\n",
      "35           Pontiac      42   0.109003\n",
      "5           Cadillac      43   0.111598\n",
      "4              Buick      47   0.121980\n",
      "27             Lifan      47   0.121980\n",
      "20            Jaguar      53   0.137552\n",
      "52           Москвич      55   0.142742\n",
      "6              Chery      58   0.150528\n",
      "10             Dacia      59   0.153123\n",
      "36           Porsche      61   0.158314\n",
      "0              Acura      66   0.171291\n",
      "30              Mini      68   0.176481\n",
      "15             Geely      71   0.184267\n",
      "48             other      72   0.186863\n",
      "53               УАЗ      74   0.192053\n",
      "42         SsangYong      79   0.205030\n",
      "24            Lancia      92   0.238769\n",
      "21              Jeep     107   0.277698\n",
      "39              Saab     108   0.280294\n",
      "19             Iveco     139   0.360748\n",
      "23              LADA     146   0.378916\n",
      "18          Infiniti     162   0.420441\n",
      "25        Land Rover     184   0.477538\n",
      "50               ГАЗ     200   0.519063\n",
      "1         Alfa Romeo     207   0.537230\n",
      "26             Lexus     213   0.552802\n",
      "11            Daewoo     221   0.573564\n",
      "44            Suzuki     234   0.607303\n",
      "38             Rover     235   0.609899\n",
      "43            Subaru     291   0.755236\n",
      "12             Dodge     297   0.770808\n",
      "40              Seat     303   0.786380\n",
      "8           Chrysler     410   1.064078\n",
      "7          Chevrolet     436   1.131556\n",
      "49               ВАЗ     481   1.248345\n",
      "47             Volvo     721   1.871221\n",
      "16             Honda     797   2.068464\n",
      "13              Fiat     824   2.138538\n",
      "31        Mitsubishi     887   2.302043\n",
      "22               Kia     912   2.366925\n",
      "41             Skoda    1089   2.826296\n",
      "17           Hyundai    1116   2.896369\n",
      "45            Toyota    1246   3.233760\n",
      "28             Mazda    1328   3.446575\n",
      "32            Nissan    1361   3.532221\n",
      "9            Citroen    1562   4.053879\n",
      "34           Peugeot    1909   4.954452\n",
      "29     Mercedes-Benz    2237   5.805715\n",
      "2               Audi    2468   6.405232\n",
      "37           Renault    2493   6.470115\n",
      "14              Ford    2566   6.659573\n",
      "3                BMW    2610   6.773767\n",
      "33              Opel    2759   7.160468\n",
      "46        Volkswagen    4243  11.011912\n"
     ]
    }
   ],
   "source": [
    "# figure out a threshold for column\n",
    "count_1 = other_columns_describe(carsDf, str_cols[0], True)"
   ]
  },
  {
   "cell_type": "code",
   "execution_count": 75,
   "id": "ac02b9e9",
   "metadata": {},
   "outputs": [],
   "source": [
    "threshold_mapping[str_cols[0]] =.1"
   ]
  },
  {
   "cell_type": "code",
   "execution_count": 76,
   "id": "1f4df36d",
   "metadata": {},
   "outputs": [],
   "source": [
    "carsDf_1 = other_columns(carsDf, str_cols[0], threshold_mapping[str_cols[0]])"
   ]
  },
  {
   "cell_type": "code",
   "execution_count": 77,
   "id": "1b114963",
   "metadata": {},
   "outputs": [],
   "source": [
    "assert (carsDf_1[str_cols[0]].unique().size ) == (carsDf[str_cols[0]].unique().size -1 ) # should be one less value \n",
    "# two values converted to other"
   ]
  },
  {
   "cell_type": "code",
   "execution_count": 78,
   "id": "7692aabc",
   "metadata": {},
   "outputs": [],
   "source": [
    "# if everything is valid update original df\n",
    "carsDf = carsDf_1.copy(deep=True)"
   ]
  },
  {
   "cell_type": "code",
   "execution_count": 85,
   "id": "41946271",
   "metadata": {},
   "outputs": [
    {
     "name": "stdout",
     "output_type": "stream",
     "text": [
      "    model_name  counts  rel_freq\n",
      "893        SLX       1  0.002595\n",
      "979        TLX       1  0.002595\n",
      "139        410       1  0.002595\n",
      "540      GL420       1  0.002595\n",
      "142  423 Kombi       1  0.002595\n",
      "..         ...     ...       ...\n",
      "734     Mondeo     637  1.653214\n",
      "228         A6     687  1.782980\n",
      "569       Golf     707  1.834886\n",
      "258      Astra     751  1.949080\n",
      "778     Passat    1423  3.693130\n",
      "\n",
      "[1118 rows x 3 columns]\n"
     ]
    }
   ],
   "source": [
    "# Next Columns\n",
    "# figure out a threshold for column\n",
    "count_2 = other_columns_describe(carsDf, str_cols[1], True)"
   ]
  },
  {
   "cell_type": "code",
   "execution_count": 91,
   "id": "12efcdef",
   "metadata": {},
   "outputs": [
    {
     "data": {
      "text/plain": [
       "(760, 1118)"
      ]
     },
     "execution_count": 91,
     "metadata": {},
     "output_type": "execute_result"
    }
   ],
   "source": [
    "threshold_mapping[str_cols[1]] =.01\n",
    "carsDf_2 = other_columns(carsDf, str_cols[1], threshold_mapping[str_cols[1]])\n",
    "carsDf_2[str_cols[1]].unique().size , carsDf[str_cols[1]].unique().size"
   ]
  },
  {
   "cell_type": "code",
   "execution_count": 92,
   "id": "2f2bd746",
   "metadata": {},
   "outputs": [],
   "source": [
    "# if everything is valid update original df\n",
    "carsDf = carsDf_2.copy(deep=True)"
   ]
  },
  {
   "cell_type": "code",
   "execution_count": 94,
   "id": "f41375f3",
   "metadata": {},
   "outputs": [
    {
     "name": "stdout",
     "output_type": "stream",
     "text": [
      "  transmission  counts   rel_freq\n",
      "0    automatic   12898  33.474345\n",
      "1   mechanical   25633  66.525655\n"
     ]
    }
   ],
   "source": [
    "# next column\n",
    "# figure out a threshold for column\n",
    "count_3 = other_columns_describe(carsDf, str_cols[2], True) # do not convert to other"
   ]
  },
  {
   "cell_type": "code",
   "execution_count": 95,
   "id": "8d8f8f3d",
   "metadata": {},
   "outputs": [
    {
     "data": {
      "text/plain": [
       "(2, 2)"
      ]
     },
     "execution_count": 95,
     "metadata": {},
     "output_type": "execute_result"
    }
   ],
   "source": [
    "threshold_mapping[str_cols[2]] =.01\n",
    "carsDf_3 = other_columns(carsDf, str_cols[2], threshold_mapping[str_cols[2]])\n",
    "carsDf_3[str_cols[2]].unique().size , carsDf[str_cols[2]].unique().size # no change, no need to update"
   ]
  },
  {
   "cell_type": "code",
   "execution_count": 98,
   "id": "0cef27e9",
   "metadata": {},
   "outputs": [
    {
     "name": "stdout",
     "output_type": "stream",
     "text": [
      "     color  counts   rel_freq\n",
      "5   orange     184   0.477538\n",
      "11  yellow     303   0.786380\n",
      "9   violet     463   1.201630\n",
      "2    brown     886   2.299447\n",
      "6    other    2688   6.976201\n",
      "3    green    2760   7.163064\n",
      "7      red    2925   7.591290\n",
      "4     grey    3751   9.735019\n",
      "10   white    4212  10.931458\n",
      "1     blue    5802  15.058005\n",
      "8   silver    6852  17.783084\n",
      "0    black    7705  19.996886\n"
     ]
    }
   ],
   "source": [
    "# next column\n",
    "# figure out a threshold for column\n",
    "count_4 = other_columns_describe(carsDf, str_cols[3], True) # do not convert to other"
   ]
  },
  {
   "cell_type": "code",
   "execution_count": 102,
   "id": "09df247c",
   "metadata": {},
   "outputs": [
    {
     "data": {
      "text/plain": [
       "(10, 12)"
      ]
     },
     "execution_count": 102,
     "metadata": {},
     "output_type": "execute_result"
    }
   ],
   "source": [
    "threshold_mapping[str_cols[3]] = 1\n",
    "carsDf_4 = other_columns(carsDf, str_cols[3], threshold_mapping[str_cols[3]])\n",
    "carsDf_4[str_cols[3]].unique().size , carsDf[str_cols[3]].unique().size "
   ]
  },
  {
   "cell_type": "code",
   "execution_count": 103,
   "id": "f4ef71bc",
   "metadata": {},
   "outputs": [],
   "source": [
    "# if everything is valid update original df\n",
    "carsDf = carsDf_4.copy(deep=True)"
   ]
  },
  {
   "cell_type": "code",
   "execution_count": 104,
   "id": "9f2d2b91",
   "metadata": {},
   "outputs": [
    {
     "name": "stdout",
     "output_type": "stream",
     "text": [
      "     engine_fuel  counts   rel_freq\n",
      "4  hybrid-diesel       2   0.005191\n",
      "1       electric      10   0.025953\n",
      "5  hybrid-petrol     235   0.609899\n",
      "2            gas    1347   3.495886\n",
      "0         diesel   12872  33.406867\n",
      "3       gasoline   24065  62.456204\n"
     ]
    }
   ],
   "source": [
    "# next column\n",
    "# figure out a threshold for column\n",
    "count_5 = other_columns_describe(carsDf, str_cols[4], True) # do not convert to other"
   ]
  },
  {
   "cell_type": "code",
   "execution_count": 105,
   "id": "e7f9a150",
   "metadata": {},
   "outputs": [
    {
     "data": {
      "text/plain": [
       "(4, 6)"
      ]
     },
     "execution_count": 105,
     "metadata": {},
     "output_type": "execute_result"
    }
   ],
   "source": [
    "threshold_mapping[str_cols[4]] = .5\n",
    "carsDf_5 = other_columns(carsDf, str_cols[4], threshold_mapping[str_cols[4]])\n",
    "carsDf_5[str_cols[4]].unique().size , carsDf[str_cols[4]].unique().size "
   ]
  },
  {
   "cell_type": "code",
   "execution_count": 106,
   "id": "a33ce427",
   "metadata": {},
   "outputs": [],
   "source": [
    "# if everything is valid update original df\n",
    "carsDf = carsDf_5.copy(deep=True)"
   ]
  },
  {
   "cell_type": "code",
   "execution_count": 111,
   "id": "f5e75cae",
   "metadata": {},
   "outputs": [
    {
     "name": "stdout",
     "output_type": "stream",
     "text": [
      "  engine_type  counts   rel_freq\n",
      "1    electric      10   0.025953\n",
      "0      diesel   12874  33.412058\n",
      "2    gasoline   25647  66.561989\n"
     ]
    }
   ],
   "source": [
    "# next column\n",
    "# figure out a threshold for column\n",
    "count_6 = other_columns_describe(carsDf, str_cols[5], True) # do not convert to other"
   ]
  },
  {
   "cell_type": "code",
   "execution_count": 117,
   "id": "8be01a44",
   "metadata": {},
   "outputs": [
    {
     "data": {
      "text/plain": [
       "(3, 3)"
      ]
     },
     "execution_count": 117,
     "metadata": {},
     "output_type": "execute_result"
    }
   ],
   "source": [
    "threshold_mapping[str_cols[5]] = .001\n",
    "carsDf_6 = other_columns(carsDf, str_cols[5], threshold_mapping[str_cols[5]])\n",
    "carsDf_6[str_cols[5]].unique().size , carsDf[str_cols[5]].unique().size # no change don't update"
   ]
  },
  {
   "cell_type": "code",
   "execution_count": 119,
   "id": "ade41f73",
   "metadata": {},
   "outputs": [
    {
     "name": "stdout",
     "output_type": "stream",
     "text": [
      "    body_type  counts   rel_freq\n",
      "4   limousine      12   0.031144\n",
      "0   cabriolet      75   0.194648\n",
      "7      pickup     129   0.334795\n",
      "3    liftback     552   1.432613\n",
      "1       coupe     652   1.692144\n",
      "11        van     808   2.097013\n",
      "5     minibus    1369   3.552983\n",
      "6     minivan    3608   9.363889\n",
      "9         suv    5164  13.402196\n",
      "10  universal    5507  14.292388\n",
      "2   hatchback    7644  19.838572\n",
      "8       sedan   13011  33.767616\n"
     ]
    }
   ],
   "source": [
    "# next column\n",
    "# figure out a threshold for column\n",
    "count_7 = other_columns_describe(carsDf, str_cols[6], True) # do not convert to other"
   ]
  },
  {
   "cell_type": "code",
   "execution_count": 120,
   "id": "47ef43ec",
   "metadata": {},
   "outputs": [
    {
     "data": {
      "text/plain": [
       "(10, 12)"
      ]
     },
     "execution_count": 120,
     "metadata": {},
     "output_type": "execute_result"
    }
   ],
   "source": [
    "threshold_mapping[str_cols[6]] = 1\n",
    "carsDf_7 = other_columns(carsDf, str_cols[6], threshold_mapping[str_cols[6]])\n",
    "carsDf_7[str_cols[6]].unique().size , carsDf[str_cols[6]].unique().size # no change don't update"
   ]
  },
  {
   "cell_type": "code",
   "execution_count": 121,
   "id": "610edd93",
   "metadata": {},
   "outputs": [
    {
     "name": "stdout",
     "output_type": "stream",
     "text": [
      "       state  counts   rel_freq\n",
      "0  emergency     370   0.960266\n",
      "1        new     438   1.136747\n",
      "2      owned   37723  97.902987\n"
     ]
    }
   ],
   "source": [
    "# next column\n",
    "# figure out a threshold for column\n",
    "count_8 = other_columns_describe(carsDf, str_cols[7], True) # do not convert to other"
   ]
  },
  {
   "cell_type": "code",
   "execution_count": 122,
   "id": "0c2d0649",
   "metadata": {},
   "outputs": [
    {
     "data": {
      "text/plain": [
       "(3, 3)"
      ]
     },
     "execution_count": 122,
     "metadata": {},
     "output_type": "execute_result"
    }
   ],
   "source": [
    "threshold_mapping[str_cols[7]] = .1\n",
    "carsDf_8 = other_columns(carsDf, str_cols[7], threshold_mapping[str_cols[7]])\n",
    "carsDf_8[str_cols[7]].unique().size , carsDf[str_cols[7]].unique().size # no change don't update"
   ]
  },
  {
   "cell_type": "code",
   "execution_count": 123,
   "id": "ecf865a0",
   "metadata": {},
   "outputs": [
    {
     "name": "stdout",
     "output_type": "stream",
     "text": [
      "  drivetrain  counts   rel_freq\n",
      "0        all    5387  13.980950\n",
      "2       rear    5398  14.009499\n",
      "1      front   27746  72.009551\n"
     ]
    }
   ],
   "source": [
    "# next column\n",
    "# figure out a threshold for column\n",
    "count_9 = other_columns_describe(carsDf, str_cols[8], True) # do not convert to other"
   ]
  },
  {
   "cell_type": "code",
   "execution_count": 124,
   "id": "54e3a8ad",
   "metadata": {},
   "outputs": [
    {
     "data": {
      "text/plain": [
       "(3, 3)"
      ]
     },
     "execution_count": 124,
     "metadata": {},
     "output_type": "execute_result"
    }
   ],
   "source": [
    "threshold_mapping[str_cols[8]] = 1\n",
    "carsDf_9 = other_columns(carsDf, str_cols[8], threshold_mapping[str_cols[8]])\n",
    "carsDf_9[str_cols[8]].unique().size , carsDf[str_cols[8]].unique().size # no change don't update"
   ]
  },
  {
   "cell_type": "code",
   "execution_count": 126,
   "id": "c1bd2ea1",
   "metadata": {},
   "outputs": [
    {
     "name": "stdout",
     "output_type": "stream",
     "text": [
      "    location_region  counts   rel_freq\n",
      "3  Гродненская обл.    2485   6.449352\n",
      "5  Могилевская обл.    2678   6.950248\n",
      "0    Брестская обл.    2991   7.762581\n",
      "1    Витебская обл.    3007   7.804106\n",
      "2   Гомельская обл.    3140   8.149282\n",
      "4      Минская обл.   24230  62.884431\n"
     ]
    }
   ],
   "source": [
    "# next column\n",
    "# figure out a threshold for column\n",
    "count_10 = other_columns_describe(carsDf, str_cols[9], True) # do not convert to other"
   ]
  },
  {
   "cell_type": "code",
   "execution_count": 127,
   "id": "14d08a81",
   "metadata": {},
   "outputs": [
    {
     "data": {
      "text/plain": [
       "(6, 6)"
      ]
     },
     "execution_count": 127,
     "metadata": {},
     "output_type": "execute_result"
    }
   ],
   "source": [
    "threshold_mapping[str_cols[9]] = 1\n",
    "carsDf_10 = other_columns(carsDf, str_cols[9], threshold_mapping[str_cols[9]])\n",
    "carsDf_10[str_cols[9]].unique().size , carsDf[str_cols[9]].unique().size # no change don't update"
   ]
  },
  {
   "cell_type": "markdown",
   "id": "9fca0276",
   "metadata": {},
   "source": [
    "# Perform One Hot Encoding"
   ]
  },
  {
   "cell_type": "code",
   "execution_count": 156,
   "id": "e8f7becb",
   "metadata": {},
   "outputs": [],
   "source": [
    "def one_hot(df, col):\n",
    "    '''\n",
    "    Performs one hot encoding on a single column\n",
    "    A new dataframe is returned\n",
    "    One hot encoding is a list of binary values\n",
    "    '''\n",
    "    df_c = df.copy(deep=True)\n",
    "    uniqueV = df[col].unique().tolist()\n",
    "    cnt = len(uniqueV)\n",
    "    one_hot_encoding = []\n",
    "    \n",
    "    for i, rw in df_c.iterrows():\n",
    "        index = uniqueV.index(rw[col]) # index in unique list\n",
    "        encoding = [ 1 if index ==i else 0 for i in range(cnt)] # set 1 if index else 0\n",
    "        one_hot_encoding.append(encoding)\n",
    "    df_c[col] = one_hot_encoding\n",
    "    return df_c\n",
    "        "
   ]
  },
  {
   "cell_type": "code",
   "execution_count": 151,
   "id": "3f63e3a8",
   "metadata": {},
   "outputs": [],
   "source": [
    "df_1 = one_hot(carsDf, \"drivetrain\")"
   ]
  },
  {
   "cell_type": "code",
   "execution_count": 154,
   "id": "756c6b4f",
   "metadata": {},
   "outputs": [
    {
     "data": {
      "text/plain": [
       "0    [1, 0, 0]\n",
       "1    [1, 0, 0]\n",
       "2    [1, 0, 0]\n",
       "3    [1, 0, 0]\n",
       "4    [1, 0, 0]\n",
       "Name: drivetrain, dtype: object"
      ]
     },
     "execution_count": 154,
     "metadata": {},
     "output_type": "execute_result"
    }
   ],
   "source": [
    "# compare some of the results\n",
    "df_1[\"drivetrain\"].head()"
   ]
  },
  {
   "cell_type": "code",
   "execution_count": 155,
   "id": "65d1170e",
   "metadata": {},
   "outputs": [
    {
     "data": {
      "text/plain": [
       "0    all\n",
       "1    all\n",
       "2    all\n",
       "3    all\n",
       "4    all\n",
       "Name: drivetrain, dtype: object"
      ]
     },
     "execution_count": 155,
     "metadata": {},
     "output_type": "execute_result"
    }
   ],
   "source": [
    "carsDf[\"drivetrain\"].head()"
   ]
  },
  {
   "cell_type": "code",
   "execution_count": 157,
   "id": "0d89c375",
   "metadata": {},
   "outputs": [],
   "source": [
    "# apply one hot to all columns\n",
    "for col in str_cols:\n",
    "    df_col = one_hot(carsDf, col)\n",
    "    carsDf = df_col.copy(deep=True)\n",
    "    "
   ]
  },
  {
   "cell_type": "code",
   "execution_count": 161,
   "id": "79df0ab9",
   "metadata": {},
   "outputs": [
    {
     "data": {
      "text/html": [
       "<div>\n",
       "<style scoped>\n",
       "    .dataframe tbody tr th:only-of-type {\n",
       "        vertical-align: middle;\n",
       "    }\n",
       "\n",
       "    .dataframe tbody tr th {\n",
       "        vertical-align: top;\n",
       "    }\n",
       "\n",
       "    .dataframe thead th {\n",
       "        text-align: right;\n",
       "    }\n",
       "</style>\n",
       "<table border=\"1\" class=\"dataframe\">\n",
       "  <thead>\n",
       "    <tr style=\"text-align: right;\">\n",
       "      <th></th>\n",
       "      <th>manufacturer_name</th>\n",
       "      <th>model_name</th>\n",
       "      <th>transmission</th>\n",
       "      <th>color</th>\n",
       "      <th>odometer_value</th>\n",
       "      <th>year_produced</th>\n",
       "      <th>engine_fuel</th>\n",
       "      <th>engine_has_gas</th>\n",
       "      <th>engine_type</th>\n",
       "      <th>engine_capacity</th>\n",
       "      <th>...</th>\n",
       "      <th>feature_1</th>\n",
       "      <th>feature_2</th>\n",
       "      <th>feature_3</th>\n",
       "      <th>feature_4</th>\n",
       "      <th>feature_5</th>\n",
       "      <th>feature_6</th>\n",
       "      <th>feature_7</th>\n",
       "      <th>feature_8</th>\n",
       "      <th>feature_9</th>\n",
       "      <th>duration_listed</th>\n",
       "    </tr>\n",
       "  </thead>\n",
       "  <tbody>\n",
       "    <tr>\n",
       "      <th>0</th>\n",
       "      <td>[1, 0, 0, 0, 0, 0, 0, 0, 0, 0, 0, 0, 0, 0, 0, ...</td>\n",
       "      <td>[1, 0, 0, 0, 0, 0, 0, 0, 0, 0, 0, 0, 0, 0, 0, ...</td>\n",
       "      <td>[1, 0]</td>\n",
       "      <td>[1, 0, 0, 0, 0, 0, 0, 0, 0, 0]</td>\n",
       "      <td>190000</td>\n",
       "      <td>2010</td>\n",
       "      <td>[1, 0, 0, 0]</td>\n",
       "      <td>0</td>\n",
       "      <td>[1, 0, 0]</td>\n",
       "      <td>2.5</td>\n",
       "      <td>...</td>\n",
       "      <td>1</td>\n",
       "      <td>1</td>\n",
       "      <td>1</td>\n",
       "      <td>0</td>\n",
       "      <td>1</td>\n",
       "      <td>0</td>\n",
       "      <td>1</td>\n",
       "      <td>1</td>\n",
       "      <td>1</td>\n",
       "      <td>16</td>\n",
       "    </tr>\n",
       "    <tr>\n",
       "      <th>1</th>\n",
       "      <td>[1, 0, 0, 0, 0, 0, 0, 0, 0, 0, 0, 0, 0, 0, 0, ...</td>\n",
       "      <td>[1, 0, 0, 0, 0, 0, 0, 0, 0, 0, 0, 0, 0, 0, 0, ...</td>\n",
       "      <td>[1, 0]</td>\n",
       "      <td>[0, 1, 0, 0, 0, 0, 0, 0, 0, 0]</td>\n",
       "      <td>290000</td>\n",
       "      <td>2002</td>\n",
       "      <td>[1, 0, 0, 0]</td>\n",
       "      <td>0</td>\n",
       "      <td>[1, 0, 0]</td>\n",
       "      <td>3.0</td>\n",
       "      <td>...</td>\n",
       "      <td>1</td>\n",
       "      <td>0</td>\n",
       "      <td>0</td>\n",
       "      <td>1</td>\n",
       "      <td>1</td>\n",
       "      <td>0</td>\n",
       "      <td>0</td>\n",
       "      <td>0</td>\n",
       "      <td>1</td>\n",
       "      <td>83</td>\n",
       "    </tr>\n",
       "    <tr>\n",
       "      <th>2</th>\n",
       "      <td>[1, 0, 0, 0, 0, 0, 0, 0, 0, 0, 0, 0, 0, 0, 0, ...</td>\n",
       "      <td>[0, 1, 0, 0, 0, 0, 0, 0, 0, 0, 0, 0, 0, 0, 0, ...</td>\n",
       "      <td>[1, 0]</td>\n",
       "      <td>[0, 0, 1, 0, 0, 0, 0, 0, 0, 0]</td>\n",
       "      <td>402000</td>\n",
       "      <td>2001</td>\n",
       "      <td>[1, 0, 0, 0]</td>\n",
       "      <td>0</td>\n",
       "      <td>[1, 0, 0]</td>\n",
       "      <td>2.5</td>\n",
       "      <td>...</td>\n",
       "      <td>1</td>\n",
       "      <td>0</td>\n",
       "      <td>0</td>\n",
       "      <td>0</td>\n",
       "      <td>0</td>\n",
       "      <td>0</td>\n",
       "      <td>0</td>\n",
       "      <td>1</td>\n",
       "      <td>1</td>\n",
       "      <td>151</td>\n",
       "    </tr>\n",
       "    <tr>\n",
       "      <th>3</th>\n",
       "      <td>[1, 0, 0, 0, 0, 0, 0, 0, 0, 0, 0, 0, 0, 0, 0, ...</td>\n",
       "      <td>[0, 0, 1, 0, 0, 0, 0, 0, 0, 0, 0, 0, 0, 0, 0, ...</td>\n",
       "      <td>[0, 1]</td>\n",
       "      <td>[0, 1, 0, 0, 0, 0, 0, 0, 0, 0]</td>\n",
       "      <td>10000</td>\n",
       "      <td>1999</td>\n",
       "      <td>[1, 0, 0, 0]</td>\n",
       "      <td>0</td>\n",
       "      <td>[1, 0, 0]</td>\n",
       "      <td>3.0</td>\n",
       "      <td>...</td>\n",
       "      <td>0</td>\n",
       "      <td>0</td>\n",
       "      <td>0</td>\n",
       "      <td>0</td>\n",
       "      <td>0</td>\n",
       "      <td>0</td>\n",
       "      <td>0</td>\n",
       "      <td>0</td>\n",
       "      <td>0</td>\n",
       "      <td>86</td>\n",
       "    </tr>\n",
       "    <tr>\n",
       "      <th>4</th>\n",
       "      <td>[1, 0, 0, 0, 0, 0, 0, 0, 0, 0, 0, 0, 0, 0, 0, ...</td>\n",
       "      <td>[0, 0, 0, 1, 0, 0, 0, 0, 0, 0, 0, 0, 0, 0, 0, ...</td>\n",
       "      <td>[1, 0]</td>\n",
       "      <td>[0, 0, 0, 1, 0, 0, 0, 0, 0, 0]</td>\n",
       "      <td>280000</td>\n",
       "      <td>2001</td>\n",
       "      <td>[1, 0, 0, 0]</td>\n",
       "      <td>0</td>\n",
       "      <td>[1, 0, 0]</td>\n",
       "      <td>2.5</td>\n",
       "      <td>...</td>\n",
       "      <td>1</td>\n",
       "      <td>0</td>\n",
       "      <td>1</td>\n",
       "      <td>1</td>\n",
       "      <td>0</td>\n",
       "      <td>0</td>\n",
       "      <td>0</td>\n",
       "      <td>0</td>\n",
       "      <td>1</td>\n",
       "      <td>7</td>\n",
       "    </tr>\n",
       "  </tbody>\n",
       "</table>\n",
       "<p>5 rows × 30 columns</p>\n",
       "</div>"
      ],
      "text/plain": [
       "                                   manufacturer_name  \\\n",
       "0  [1, 0, 0, 0, 0, 0, 0, 0, 0, 0, 0, 0, 0, 0, 0, ...   \n",
       "1  [1, 0, 0, 0, 0, 0, 0, 0, 0, 0, 0, 0, 0, 0, 0, ...   \n",
       "2  [1, 0, 0, 0, 0, 0, 0, 0, 0, 0, 0, 0, 0, 0, 0, ...   \n",
       "3  [1, 0, 0, 0, 0, 0, 0, 0, 0, 0, 0, 0, 0, 0, 0, ...   \n",
       "4  [1, 0, 0, 0, 0, 0, 0, 0, 0, 0, 0, 0, 0, 0, 0, ...   \n",
       "\n",
       "                                          model_name transmission  \\\n",
       "0  [1, 0, 0, 0, 0, 0, 0, 0, 0, 0, 0, 0, 0, 0, 0, ...       [1, 0]   \n",
       "1  [1, 0, 0, 0, 0, 0, 0, 0, 0, 0, 0, 0, 0, 0, 0, ...       [1, 0]   \n",
       "2  [0, 1, 0, 0, 0, 0, 0, 0, 0, 0, 0, 0, 0, 0, 0, ...       [1, 0]   \n",
       "3  [0, 0, 1, 0, 0, 0, 0, 0, 0, 0, 0, 0, 0, 0, 0, ...       [0, 1]   \n",
       "4  [0, 0, 0, 1, 0, 0, 0, 0, 0, 0, 0, 0, 0, 0, 0, ...       [1, 0]   \n",
       "\n",
       "                            color  odometer_value  year_produced  \\\n",
       "0  [1, 0, 0, 0, 0, 0, 0, 0, 0, 0]          190000           2010   \n",
       "1  [0, 1, 0, 0, 0, 0, 0, 0, 0, 0]          290000           2002   \n",
       "2  [0, 0, 1, 0, 0, 0, 0, 0, 0, 0]          402000           2001   \n",
       "3  [0, 1, 0, 0, 0, 0, 0, 0, 0, 0]           10000           1999   \n",
       "4  [0, 0, 0, 1, 0, 0, 0, 0, 0, 0]          280000           2001   \n",
       "\n",
       "    engine_fuel  engine_has_gas engine_type  engine_capacity  ... feature_1  \\\n",
       "0  [1, 0, 0, 0]               0   [1, 0, 0]              2.5  ...         1   \n",
       "1  [1, 0, 0, 0]               0   [1, 0, 0]              3.0  ...         1   \n",
       "2  [1, 0, 0, 0]               0   [1, 0, 0]              2.5  ...         1   \n",
       "3  [1, 0, 0, 0]               0   [1, 0, 0]              3.0  ...         0   \n",
       "4  [1, 0, 0, 0]               0   [1, 0, 0]              2.5  ...         1   \n",
       "\n",
       "   feature_2 feature_3 feature_4  feature_5  feature_6 feature_7  feature_8  \\\n",
       "0          1         1         0          1          0         1          1   \n",
       "1          0         0         1          1          0         0          0   \n",
       "2          0         0         0          0          0         0          1   \n",
       "3          0         0         0          0          0         0          0   \n",
       "4          0         1         1          0          0         0          0   \n",
       "\n",
       "   feature_9  duration_listed  \n",
       "0          1               16  \n",
       "1          1               83  \n",
       "2          1              151  \n",
       "3          0               86  \n",
       "4          1                7  \n",
       "\n",
       "[5 rows x 30 columns]"
      ]
     },
     "execution_count": 161,
     "metadata": {},
     "output_type": "execute_result"
    }
   ],
   "source": [
    "carsDf.head() # verify the data is as expected now"
   ]
  },
  {
   "cell_type": "code",
   "execution_count": 164,
   "id": "efb7d2fc",
   "metadata": {},
   "outputs": [],
   "source": [
    "# confirm no more string values\n",
    "for i in range(carsDf.shape[0]):\n",
    "    for col in str_cols:\n",
    "        assert isinstance(carsDf.iloc[i][col],list) # should be a list/encoding and not string anymor"
   ]
  },
  {
   "cell_type": "code",
   "execution_count": 178,
   "id": "77bbf6c2",
   "metadata": {},
   "outputs": [],
   "source": [
    "def prep_for_training(df, label):\n",
    "    '''\n",
    "    To feed data into a ML model like NN,\n",
    "    we need the data split into a features and label\n",
    "    and the data should be stored in numpy arrays instead of pandas dfs\n",
    "    '''\n",
    "    cols = df.columns.tolist()\n",
    "    cols.remove(label)\n",
    "    \n",
    "    y = df[label].to_numpy()\n",
    "    x = df[cols].to_numpy()\n",
    "    return x, y"
   ]
  },
  {
   "cell_type": "code",
   "execution_count": 180,
   "id": "723a96af",
   "metadata": {},
   "outputs": [],
   "source": [
    "# convert data to be feed into a ML model\n",
    "x, y = prep_for_training(carsDf,\"price_usd\")"
   ]
  },
  {
   "cell_type": "code",
   "execution_count": null,
   "id": "fa7a9757",
   "metadata": {},
   "outputs": [],
   "source": []
  }
 ],
 "metadata": {
  "kernelspec": {
   "display_name": "Python 3 (ipykernel)",
   "language": "python",
   "name": "python3"
  },
  "language_info": {
   "codemirror_mode": {
    "name": "ipython",
    "version": 3
   },
   "file_extension": ".py",
   "mimetype": "text/x-python",
   "name": "python",
   "nbconvert_exporter": "python",
   "pygments_lexer": "ipython3",
   "version": "3.8.10"
  }
 },
 "nbformat": 4,
 "nbformat_minor": 5
}
