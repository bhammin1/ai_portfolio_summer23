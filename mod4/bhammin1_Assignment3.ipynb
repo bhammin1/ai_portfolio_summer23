{
 "cells": [
  {
   "cell_type": "code",
   "execution_count": 1,
   "id": "8b07da9f",
   "metadata": {},
   "outputs": [],
   "source": [
    "import pandas as pd\n",
    "import nltk"
   ]
  },
  {
   "cell_type": "markdown",
   "id": "80012770",
   "metadata": {},
   "source": [
    "## Load the CSV"
   ]
  },
  {
   "cell_type": "code",
   "execution_count": 2,
   "id": "99b9769d",
   "metadata": {},
   "outputs": [],
   "source": [
    "def load_data(path):\n",
    "    '''\n",
    "    Given a path (str) to a csv returns a pandas dataframe\n",
    "    '''\n",
    "    df = pd.read_csv(path)\n",
    "    return df"
   ]
  },
  {
   "cell_type": "code",
   "execution_count": 3,
   "id": "4264ed0c",
   "metadata": {},
   "outputs": [
    {
     "data": {
      "text/html": [
       "<div>\n",
       "<style scoped>\n",
       "    .dataframe tbody tr th:only-of-type {\n",
       "        vertical-align: middle;\n",
       "    }\n",
       "\n",
       "    .dataframe tbody tr th {\n",
       "        vertical-align: top;\n",
       "    }\n",
       "\n",
       "    .dataframe thead th {\n",
       "        text-align: right;\n",
       "    }\n",
       "</style>\n",
       "<table border=\"1\" class=\"dataframe\">\n",
       "  <thead>\n",
       "    <tr style=\"text-align: right;\">\n",
       "      <th></th>\n",
       "      <th>reviewerID</th>\n",
       "      <th>asin</th>\n",
       "      <th>reviewerName</th>\n",
       "      <th>helpful</th>\n",
       "      <th>reviewText</th>\n",
       "      <th>overall</th>\n",
       "      <th>summary</th>\n",
       "      <th>unixReviewTime</th>\n",
       "      <th>reviewTime</th>\n",
       "    </tr>\n",
       "  </thead>\n",
       "  <tbody>\n",
       "    <tr>\n",
       "      <th>0</th>\n",
       "      <td>A2IBPI20UZIR0U</td>\n",
       "      <td>1384719342</td>\n",
       "      <td>cassandra tu \"Yeah, well, that's just like, u...</td>\n",
       "      <td>[0, 0]</td>\n",
       "      <td>Not much to write about here, but it does exac...</td>\n",
       "      <td>5.0</td>\n",
       "      <td>good</td>\n",
       "      <td>1393545600</td>\n",
       "      <td>02 28, 2014</td>\n",
       "    </tr>\n",
       "    <tr>\n",
       "      <th>1</th>\n",
       "      <td>A14VAT5EAX3D9S</td>\n",
       "      <td>1384719342</td>\n",
       "      <td>Jake</td>\n",
       "      <td>[13, 14]</td>\n",
       "      <td>The product does exactly as it should and is q...</td>\n",
       "      <td>5.0</td>\n",
       "      <td>Jake</td>\n",
       "      <td>1363392000</td>\n",
       "      <td>03 16, 2013</td>\n",
       "    </tr>\n",
       "    <tr>\n",
       "      <th>2</th>\n",
       "      <td>A195EZSQDW3E21</td>\n",
       "      <td>1384719342</td>\n",
       "      <td>Rick Bennette \"Rick Bennette\"</td>\n",
       "      <td>[1, 1]</td>\n",
       "      <td>The primary job of this device is to block the...</td>\n",
       "      <td>5.0</td>\n",
       "      <td>It Does The Job Well</td>\n",
       "      <td>1377648000</td>\n",
       "      <td>08 28, 2013</td>\n",
       "    </tr>\n",
       "    <tr>\n",
       "      <th>3</th>\n",
       "      <td>A2C00NNG1ZQQG2</td>\n",
       "      <td>1384719342</td>\n",
       "      <td>RustyBill \"Sunday Rocker\"</td>\n",
       "      <td>[0, 0]</td>\n",
       "      <td>Nice windscreen protects my MXL mic and preven...</td>\n",
       "      <td>5.0</td>\n",
       "      <td>GOOD WINDSCREEN FOR THE MONEY</td>\n",
       "      <td>1392336000</td>\n",
       "      <td>02 14, 2014</td>\n",
       "    </tr>\n",
       "    <tr>\n",
       "      <th>4</th>\n",
       "      <td>A94QU4C90B1AX</td>\n",
       "      <td>1384719342</td>\n",
       "      <td>SEAN MASLANKA</td>\n",
       "      <td>[0, 0]</td>\n",
       "      <td>This pop filter is great. It looks and perform...</td>\n",
       "      <td>5.0</td>\n",
       "      <td>No more pops when I record my vocals.</td>\n",
       "      <td>1392940800</td>\n",
       "      <td>02 21, 2014</td>\n",
       "    </tr>\n",
       "  </tbody>\n",
       "</table>\n",
       "</div>"
      ],
      "text/plain": [
       "       reviewerID        asin  \\\n",
       "0  A2IBPI20UZIR0U  1384719342   \n",
       "1  A14VAT5EAX3D9S  1384719342   \n",
       "2  A195EZSQDW3E21  1384719342   \n",
       "3  A2C00NNG1ZQQG2  1384719342   \n",
       "4   A94QU4C90B1AX  1384719342   \n",
       "\n",
       "                                       reviewerName   helpful  \\\n",
       "0  cassandra tu \"Yeah, well, that's just like, u...    [0, 0]   \n",
       "1                                              Jake  [13, 14]   \n",
       "2                     Rick Bennette \"Rick Bennette\"    [1, 1]   \n",
       "3                         RustyBill \"Sunday Rocker\"    [0, 0]   \n",
       "4                                     SEAN MASLANKA    [0, 0]   \n",
       "\n",
       "                                          reviewText  overall  \\\n",
       "0  Not much to write about here, but it does exac...      5.0   \n",
       "1  The product does exactly as it should and is q...      5.0   \n",
       "2  The primary job of this device is to block the...      5.0   \n",
       "3  Nice windscreen protects my MXL mic and preven...      5.0   \n",
       "4  This pop filter is great. It looks and perform...      5.0   \n",
       "\n",
       "                                 summary  unixReviewTime   reviewTime  \n",
       "0                                   good      1393545600  02 28, 2014  \n",
       "1                                   Jake      1363392000  03 16, 2013  \n",
       "2                   It Does The Job Well      1377648000  08 28, 2013  \n",
       "3          GOOD WINDSCREEN FOR THE MONEY      1392336000  02 14, 2014  \n",
       "4  No more pops when I record my vocals.      1392940800  02 21, 2014  "
      ]
     },
     "execution_count": 3,
     "metadata": {},
     "output_type": "execute_result"
    }
   ],
   "source": [
    "df = load_data(\"./Musical_instruments_reviews.csv\") # load it\n",
    "df.head() # visually check the dataframe looks like the csv"
   ]
  },
  {
   "cell_type": "code",
   "execution_count": 4,
   "id": "88944ba1",
   "metadata": {},
   "outputs": [],
   "source": [
    "# verify the summary column is present\n",
    "assert \"summary\" in list(df.columns)\n",
    "assert df[\"summary\"].dtype ==object # pandas doesnt tell us if its a string or not\n",
    "for i in range(df.shape[0]):\n",
    "    assert isinstance(df.iloc[i][\"summary\"],str)"
   ]
  },
  {
   "cell_type": "code",
   "execution_count": 5,
   "id": "64c937cb",
   "metadata": {},
   "outputs": [
    {
     "data": {
      "text/html": [
       "<div>\n",
       "<style scoped>\n",
       "    .dataframe tbody tr th:only-of-type {\n",
       "        vertical-align: middle;\n",
       "    }\n",
       "\n",
       "    .dataframe tbody tr th {\n",
       "        vertical-align: top;\n",
       "    }\n",
       "\n",
       "    .dataframe thead th {\n",
       "        text-align: right;\n",
       "    }\n",
       "</style>\n",
       "<table border=\"1\" class=\"dataframe\">\n",
       "  <thead>\n",
       "    <tr style=\"text-align: right;\">\n",
       "      <th></th>\n",
       "      <th>reviewerID</th>\n",
       "      <th>asin</th>\n",
       "      <th>reviewerName</th>\n",
       "      <th>helpful</th>\n",
       "      <th>reviewText</th>\n",
       "      <th>overall</th>\n",
       "      <th>summary</th>\n",
       "      <th>unixReviewTime</th>\n",
       "      <th>reviewTime</th>\n",
       "    </tr>\n",
       "  </thead>\n",
       "  <tbody>\n",
       "    <tr>\n",
       "      <th>0</th>\n",
       "      <td>A2IBPI20UZIR0U</td>\n",
       "      <td>1384719342</td>\n",
       "      <td>cassandra tu \"Yeah, well, that's just like, u...</td>\n",
       "      <td>[0, 0]</td>\n",
       "      <td>Not much to write about here, but it does exac...</td>\n",
       "      <td>5.0</td>\n",
       "      <td>good</td>\n",
       "      <td>1393545600</td>\n",
       "      <td>02 28, 2014</td>\n",
       "    </tr>\n",
       "    <tr>\n",
       "      <th>1</th>\n",
       "      <td>A14VAT5EAX3D9S</td>\n",
       "      <td>1384719342</td>\n",
       "      <td>Jake</td>\n",
       "      <td>[13, 14]</td>\n",
       "      <td>The product does exactly as it should and is q...</td>\n",
       "      <td>5.0</td>\n",
       "      <td>Jake</td>\n",
       "      <td>1363392000</td>\n",
       "      <td>03 16, 2013</td>\n",
       "    </tr>\n",
       "    <tr>\n",
       "      <th>2</th>\n",
       "      <td>A195EZSQDW3E21</td>\n",
       "      <td>1384719342</td>\n",
       "      <td>Rick Bennette \"Rick Bennette\"</td>\n",
       "      <td>[1, 1]</td>\n",
       "      <td>The primary job of this device is to block the...</td>\n",
       "      <td>5.0</td>\n",
       "      <td>It Does The Job Well</td>\n",
       "      <td>1377648000</td>\n",
       "      <td>08 28, 2013</td>\n",
       "    </tr>\n",
       "    <tr>\n",
       "      <th>3</th>\n",
       "      <td>A2C00NNG1ZQQG2</td>\n",
       "      <td>1384719342</td>\n",
       "      <td>RustyBill \"Sunday Rocker\"</td>\n",
       "      <td>[0, 0]</td>\n",
       "      <td>Nice windscreen protects my MXL mic and preven...</td>\n",
       "      <td>5.0</td>\n",
       "      <td>GOOD WINDSCREEN FOR THE MONEY</td>\n",
       "      <td>1392336000</td>\n",
       "      <td>02 14, 2014</td>\n",
       "    </tr>\n",
       "    <tr>\n",
       "      <th>4</th>\n",
       "      <td>A94QU4C90B1AX</td>\n",
       "      <td>1384719342</td>\n",
       "      <td>SEAN MASLANKA</td>\n",
       "      <td>[0, 0]</td>\n",
       "      <td>This pop filter is great. It looks and perform...</td>\n",
       "      <td>5.0</td>\n",
       "      <td>No more pops when I record my vocals.</td>\n",
       "      <td>1392940800</td>\n",
       "      <td>02 21, 2014</td>\n",
       "    </tr>\n",
       "  </tbody>\n",
       "</table>\n",
       "</div>"
      ],
      "text/plain": [
       "       reviewerID        asin  \\\n",
       "0  A2IBPI20UZIR0U  1384719342   \n",
       "1  A14VAT5EAX3D9S  1384719342   \n",
       "2  A195EZSQDW3E21  1384719342   \n",
       "3  A2C00NNG1ZQQG2  1384719342   \n",
       "4   A94QU4C90B1AX  1384719342   \n",
       "\n",
       "                                       reviewerName   helpful  \\\n",
       "0  cassandra tu \"Yeah, well, that's just like, u...    [0, 0]   \n",
       "1                                              Jake  [13, 14]   \n",
       "2                     Rick Bennette \"Rick Bennette\"    [1, 1]   \n",
       "3                         RustyBill \"Sunday Rocker\"    [0, 0]   \n",
       "4                                     SEAN MASLANKA    [0, 0]   \n",
       "\n",
       "                                          reviewText  overall  \\\n",
       "0  Not much to write about here, but it does exac...      5.0   \n",
       "1  The product does exactly as it should and is q...      5.0   \n",
       "2  The primary job of this device is to block the...      5.0   \n",
       "3  Nice windscreen protects my MXL mic and preven...      5.0   \n",
       "4  This pop filter is great. It looks and perform...      5.0   \n",
       "\n",
       "                                 summary  unixReviewTime   reviewTime  \n",
       "0                                   good      1393545600  02 28, 2014  \n",
       "1                                   Jake      1363392000  03 16, 2013  \n",
       "2                   It Does The Job Well      1377648000  08 28, 2013  \n",
       "3          GOOD WINDSCREEN FOR THE MONEY      1392336000  02 14, 2014  \n",
       "4  No more pops when I record my vocals.      1392940800  02 21, 2014  "
      ]
     },
     "execution_count": 5,
     "metadata": {},
     "output_type": "execute_result"
    }
   ],
   "source": [
    "df.head()"
   ]
  },
  {
   "cell_type": "markdown",
   "id": "e5b2e5b9",
   "metadata": {},
   "source": [
    "## Perform Tokenization"
   ]
  },
  {
   "cell_type": "code",
   "execution_count": 6,
   "id": "c279f149",
   "metadata": {},
   "outputs": [],
   "source": [
    "def token(colName,df):\n",
    "    '''\n",
    "    Given a column name (string) and pandas data frame\n",
    "    Returns a series with the column tokenized\n",
    "    '''\n",
    "    nltk.download('punkt')\n",
    "    col = df[colName] # returns a series\n",
    "    col_token = col.apply(nltk.word_tokenize)\n",
    "    return col_token"
   ]
  },
  {
   "cell_type": "code",
   "execution_count": 7,
   "id": "203f73ca",
   "metadata": {},
   "outputs": [
    {
     "name": "stderr",
     "output_type": "stream",
     "text": [
      "[nltk_data] Downloading package punkt to /root/nltk_data...\n",
      "[nltk_data]   Package punkt is already up-to-date!\n"
     ]
    },
    {
     "data": {
      "text/plain": [
       "0                                               [good]\n",
       "1                                               [Jake]\n",
       "2                           [It, Does, The, Job, Well]\n",
       "3                  [GOOD, WINDSCREEN, FOR, THE, MONEY]\n",
       "4     [No, more, pops, when, I, record, my, vocals, .]\n",
       "5                                   [The, Best, Cable]\n",
       "6    [Monster, Standard, 100, -, 21, ', Instrument,...\n",
       "7        [Did, n't, fit, my, 1996, Fender, Strat, ...]\n",
       "8                                       [Great, cable]\n",
       "9          [Best, Instrument, Cables, On, The, Market]\n",
       "Name: summary, dtype: object"
      ]
     },
     "execution_count": 7,
     "metadata": {},
     "output_type": "execute_result"
    }
   ],
   "source": [
    "summary_token = token(\"summary\",df) # tokenize the column\n",
    "summary_token.head(10) # visually check the data"
   ]
  },
  {
   "cell_type": "code",
   "execution_count": 8,
   "id": "f57b0c9e",
   "metadata": {},
   "outputs": [],
   "source": [
    "# verify the column was transformed\n",
    "summary_col = df[\"summary\"]\n",
    "assert summary_token[0] != summary_col[0] # verify theres a change\n",
    "assert summary_token[20] != summary_col[20] # verify the cols differ\n",
    "assert summary_token[3] == summary_col[3].split() # verify the tokenization performed as expected\n",
    "for i in range(summary_token.size):\n",
    "    assert isinstance(summary_token[i],list)"
   ]
  },
  {
   "cell_type": "markdown",
   "id": "7c85d018",
   "metadata": {},
   "source": [
    "## Perform Stemming\n"
   ]
  },
  {
   "cell_type": "code",
   "execution_count": 9,
   "id": "a94488fc",
   "metadata": {},
   "outputs": [],
   "source": [
    "def stemming_col(token_col):\n",
    "    '''\n",
    "    Given a tokenized series, returns a series that is stemmed\n",
    "    '''\n",
    "    stemmer = nltk.stem.snowball.SnowballStemmer(\"english\")\n",
    "    stem_list = []\n",
    "    \n",
    "    # stem each token/word\n",
    "    for token in token_col:\n",
    "        row = []\n",
    "        for t in token:\n",
    "            row.append(stemmer.stem(t))\n",
    "        stem_list.append(row)\n",
    "    col_stem = pd.Series(stem_list)\n",
    "    return col_stem"
   ]
  },
  {
   "cell_type": "code",
   "execution_count": 10,
   "id": "bfcc226c",
   "metadata": {},
   "outputs": [
    {
     "data": {
      "text/plain": [
       "0                                               [good]\n",
       "1                                               [jake]\n",
       "2                            [it, doe, the, job, well]\n",
       "3                  [good, windscreen, for, the, money]\n",
       "4       [no, more, pop, when, i, record, my, vocal, .]\n",
       "5                                    [the, best, cabl]\n",
       "6    [monster, standard, 100, -, 21, ', instrument,...\n",
       "7        [did, n't, fit, my, 1996, fender, strat, ...]\n",
       "8                                        [great, cabl]\n",
       "9            [best, instrument, cabl, on, the, market]\n",
       "dtype: object"
      ]
     },
     "execution_count": 10,
     "metadata": {},
     "output_type": "execute_result"
    }
   ],
   "source": [
    "summary_stem = stemming_col(summary_token)\n",
    "summary_stem.head(10) # visual the data"
   ]
  },
  {
   "cell_type": "code",
   "execution_count": 11,
   "id": "904eb683",
   "metadata": {},
   "outputs": [],
   "source": [
    "# verify the data values\n",
    "assert summary_stem[9] == ['best', 'instrument', 'cabl', 'on', 'the', 'market'] # verify cables changes to cabl\n",
    "assert len(summary_stem[4]) == len(summary_token[4]) # verify words dont get lost"
   ]
  },
  {
   "cell_type": "markdown",
   "id": "399e4772",
   "metadata": {},
   "source": [
    "## Perform Lemmatization"
   ]
  },
  {
   "cell_type": "code",
   "execution_count": 12,
   "id": "a7520b51",
   "metadata": {},
   "outputs": [],
   "source": [
    "def lemmatize_col(token_col):\n",
    "    '''\n",
    "    Given a tokenized series, returns a series\n",
    "    with lemmatization performed\n",
    "    '''\n",
    "    nltk.download('wordnet')\n",
    "    lem = nltk.stem.WordNetLemmatizer()\n",
    "    lem_list =[]\n",
    "    # lemmatize each token/word\n",
    "    for token in token_col:\n",
    "        row = []\n",
    "        for t in token:\n",
    "            row.append(lem.lemmatize(t))\n",
    "        lem_list.append(row)\n",
    "    col_lem = pd.Series(lem_list)\n",
    "    return col_lem"
   ]
  },
  {
   "cell_type": "code",
   "execution_count": 13,
   "id": "0f7b07ae",
   "metadata": {},
   "outputs": [
    {
     "name": "stderr",
     "output_type": "stream",
     "text": [
      "[nltk_data] Downloading package wordnet to /root/nltk_data...\n",
      "[nltk_data]   Package wordnet is already up-to-date!\n"
     ]
    }
   ],
   "source": [
    "summary_lem = lemmatize_col(summary_token)"
   ]
  },
  {
   "cell_type": "code",
   "execution_count": 14,
   "id": "ee4ffccd",
   "metadata": {},
   "outputs": [
    {
     "data": {
      "text/plain": [
       "0                                            [good]\n",
       "1                                            [Jake]\n",
       "2                        [It, Does, The, Job, Well]\n",
       "3               [GOOD, WINDSCREEN, FOR, THE, MONEY]\n",
       "4    [No, more, pop, when, I, record, my, vocal, .]\n",
       "dtype: object"
      ]
     },
     "execution_count": 14,
     "metadata": {},
     "output_type": "execute_result"
    }
   ],
   "source": [
    "summary_lem.head() # visually check the data"
   ]
  },
  {
   "cell_type": "code",
   "execution_count": 15,
   "id": "0021050b",
   "metadata": {},
   "outputs": [],
   "source": [
    "# verify the data\n",
    "assert summary_lem[4] ==['No', 'more', 'pop', 'when', 'I', 'record', 'my', 'vocal', '.'] # the pops changes to pop\n",
    "assert len(summary_lem[4]) == len(summary_token[4]) # verify words dont get lost"
   ]
  },
  {
   "cell_type": "markdown",
   "id": "78b9722d",
   "metadata": {},
   "source": [
    "## Part of Speech Tagging"
   ]
  },
  {
   "cell_type": "code",
   "execution_count": 16,
   "id": "65688ca6",
   "metadata": {},
   "outputs": [],
   "source": [
    "def pst(token_col):\n",
    "    '''\n",
    "    Given a tokenized series,\n",
    "    returns a series with part of speech tagging\n",
    "    '''\n",
    "    nltk.download('averaged_perceptron_tagger')\n",
    "    pst_list =[]\n",
    "    # pst each token/word\n",
    "    for token in token_col:\n",
    "        row = []\n",
    "        pst_list.append(nltk.pos_tag(token))\n",
    "    col_pst = pd.Series(pst_list)\n",
    "    return col_pst"
   ]
  },
  {
   "cell_type": "code",
   "execution_count": 17,
   "id": "4914f423",
   "metadata": {},
   "outputs": [
    {
     "name": "stderr",
     "output_type": "stream",
     "text": [
      "[nltk_data] Downloading package averaged_perceptron_tagger to\n",
      "[nltk_data]     /root/nltk_data...\n",
      "[nltk_data]   Package averaged_perceptron_tagger is already up-to-\n",
      "[nltk_data]       date!\n"
     ]
    }
   ],
   "source": [
    "summary_pst = pst(summary_token)"
   ]
  },
  {
   "cell_type": "code",
   "execution_count": 18,
   "id": "ae91b5bb",
   "metadata": {},
   "outputs": [
    {
     "data": {
      "text/plain": [
       "0                                         [(good, JJ)]\n",
       "1                                         [(Jake, NN)]\n",
       "2    [(It, PRP), (Does, VBZ), (The, DT), (Job, NNP)...\n",
       "3    [(GOOD, JJ), (WINDSCREEN, NNP), (FOR, NNP), (T...\n",
       "4    [(No, DT), (more, RBR), (pops, NNS), (when, WR...\n",
       "5               [(The, DT), (Best, NNP), (Cable, NNP)]\n",
       "6    [(Monster, NNP), (Standard, NNP), (100, CD), (...\n",
       "7    [(Did, NNP), (n't, RB), (fit, VB), (my, PRP$),...\n",
       "8                          [(Great, NNP), (cable, NN)]\n",
       "9    [(Best, RBS), (Instrument, NNP), (Cables, NNP)...\n",
       "dtype: object"
      ]
     },
     "execution_count": 18,
     "metadata": {},
     "output_type": "execute_result"
    }
   ],
   "source": [
    "summary_pst.head(10) #visualize the data"
   ]
  },
  {
   "cell_type": "markdown",
   "id": "6b0ef9d2",
   "metadata": {},
   "source": [
    "## Join All Transforms into DF"
   ]
  },
  {
   "cell_type": "code",
   "execution_count": 19,
   "id": "595945ff",
   "metadata": {},
   "outputs": [],
   "source": [
    "def add_cols(df, cols, names):\n",
    "    '''\n",
    "    Given a pandas data frame (df), list of series (cols)\n",
    "    and a list of column names (names)\n",
    "    Updates the data frame to have all the new columns from the series\n",
    "    '''\n",
    "    for i in range(len(cols)):\n",
    "        df[names[i]] = cols[i]"
   ]
  },
  {
   "cell_type": "code",
   "execution_count": 20,
   "id": "1f2dcd1b",
   "metadata": {},
   "outputs": [
    {
     "data": {
      "text/html": [
       "<div>\n",
       "<style scoped>\n",
       "    .dataframe tbody tr th:only-of-type {\n",
       "        vertical-align: middle;\n",
       "    }\n",
       "\n",
       "    .dataframe tbody tr th {\n",
       "        vertical-align: top;\n",
       "    }\n",
       "\n",
       "    .dataframe thead th {\n",
       "        text-align: right;\n",
       "    }\n",
       "</style>\n",
       "<table border=\"1\" class=\"dataframe\">\n",
       "  <thead>\n",
       "    <tr style=\"text-align: right;\">\n",
       "      <th></th>\n",
       "      <th>reviewerID</th>\n",
       "      <th>asin</th>\n",
       "      <th>reviewerName</th>\n",
       "      <th>helpful</th>\n",
       "      <th>reviewText</th>\n",
       "      <th>overall</th>\n",
       "      <th>summary</th>\n",
       "      <th>unixReviewTime</th>\n",
       "      <th>reviewTime</th>\n",
       "      <th>summary_tokens</th>\n",
       "      <th>summary_stemming</th>\n",
       "      <th>summary_lemmatization</th>\n",
       "      <th>summary_pst</th>\n",
       "    </tr>\n",
       "  </thead>\n",
       "  <tbody>\n",
       "    <tr>\n",
       "      <th>0</th>\n",
       "      <td>A2IBPI20UZIR0U</td>\n",
       "      <td>1384719342</td>\n",
       "      <td>cassandra tu \"Yeah, well, that's just like, u...</td>\n",
       "      <td>[0, 0]</td>\n",
       "      <td>Not much to write about here, but it does exac...</td>\n",
       "      <td>5.0</td>\n",
       "      <td>good</td>\n",
       "      <td>1393545600</td>\n",
       "      <td>02 28, 2014</td>\n",
       "      <td>[good]</td>\n",
       "      <td>[good]</td>\n",
       "      <td>[good]</td>\n",
       "      <td>[(good, JJ)]</td>\n",
       "    </tr>\n",
       "    <tr>\n",
       "      <th>1</th>\n",
       "      <td>A14VAT5EAX3D9S</td>\n",
       "      <td>1384719342</td>\n",
       "      <td>Jake</td>\n",
       "      <td>[13, 14]</td>\n",
       "      <td>The product does exactly as it should and is q...</td>\n",
       "      <td>5.0</td>\n",
       "      <td>Jake</td>\n",
       "      <td>1363392000</td>\n",
       "      <td>03 16, 2013</td>\n",
       "      <td>[Jake]</td>\n",
       "      <td>[jake]</td>\n",
       "      <td>[Jake]</td>\n",
       "      <td>[(Jake, NN)]</td>\n",
       "    </tr>\n",
       "    <tr>\n",
       "      <th>2</th>\n",
       "      <td>A195EZSQDW3E21</td>\n",
       "      <td>1384719342</td>\n",
       "      <td>Rick Bennette \"Rick Bennette\"</td>\n",
       "      <td>[1, 1]</td>\n",
       "      <td>The primary job of this device is to block the...</td>\n",
       "      <td>5.0</td>\n",
       "      <td>It Does The Job Well</td>\n",
       "      <td>1377648000</td>\n",
       "      <td>08 28, 2013</td>\n",
       "      <td>[It, Does, The, Job, Well]</td>\n",
       "      <td>[it, doe, the, job, well]</td>\n",
       "      <td>[It, Does, The, Job, Well]</td>\n",
       "      <td>[(It, PRP), (Does, VBZ), (The, DT), (Job, NNP)...</td>\n",
       "    </tr>\n",
       "    <tr>\n",
       "      <th>3</th>\n",
       "      <td>A2C00NNG1ZQQG2</td>\n",
       "      <td>1384719342</td>\n",
       "      <td>RustyBill \"Sunday Rocker\"</td>\n",
       "      <td>[0, 0]</td>\n",
       "      <td>Nice windscreen protects my MXL mic and preven...</td>\n",
       "      <td>5.0</td>\n",
       "      <td>GOOD WINDSCREEN FOR THE MONEY</td>\n",
       "      <td>1392336000</td>\n",
       "      <td>02 14, 2014</td>\n",
       "      <td>[GOOD, WINDSCREEN, FOR, THE, MONEY]</td>\n",
       "      <td>[good, windscreen, for, the, money]</td>\n",
       "      <td>[GOOD, WINDSCREEN, FOR, THE, MONEY]</td>\n",
       "      <td>[(GOOD, JJ), (WINDSCREEN, NNP), (FOR, NNP), (T...</td>\n",
       "    </tr>\n",
       "    <tr>\n",
       "      <th>4</th>\n",
       "      <td>A94QU4C90B1AX</td>\n",
       "      <td>1384719342</td>\n",
       "      <td>SEAN MASLANKA</td>\n",
       "      <td>[0, 0]</td>\n",
       "      <td>This pop filter is great. It looks and perform...</td>\n",
       "      <td>5.0</td>\n",
       "      <td>No more pops when I record my vocals.</td>\n",
       "      <td>1392940800</td>\n",
       "      <td>02 21, 2014</td>\n",
       "      <td>[No, more, pops, when, I, record, my, vocals, .]</td>\n",
       "      <td>[no, more, pop, when, i, record, my, vocal, .]</td>\n",
       "      <td>[No, more, pop, when, I, record, my, vocal, .]</td>\n",
       "      <td>[(No, DT), (more, RBR), (pops, NNS), (when, WR...</td>\n",
       "    </tr>\n",
       "  </tbody>\n",
       "</table>\n",
       "</div>"
      ],
      "text/plain": [
       "       reviewerID        asin  \\\n",
       "0  A2IBPI20UZIR0U  1384719342   \n",
       "1  A14VAT5EAX3D9S  1384719342   \n",
       "2  A195EZSQDW3E21  1384719342   \n",
       "3  A2C00NNG1ZQQG2  1384719342   \n",
       "4   A94QU4C90B1AX  1384719342   \n",
       "\n",
       "                                       reviewerName   helpful  \\\n",
       "0  cassandra tu \"Yeah, well, that's just like, u...    [0, 0]   \n",
       "1                                              Jake  [13, 14]   \n",
       "2                     Rick Bennette \"Rick Bennette\"    [1, 1]   \n",
       "3                         RustyBill \"Sunday Rocker\"    [0, 0]   \n",
       "4                                     SEAN MASLANKA    [0, 0]   \n",
       "\n",
       "                                          reviewText  overall  \\\n",
       "0  Not much to write about here, but it does exac...      5.0   \n",
       "1  The product does exactly as it should and is q...      5.0   \n",
       "2  The primary job of this device is to block the...      5.0   \n",
       "3  Nice windscreen protects my MXL mic and preven...      5.0   \n",
       "4  This pop filter is great. It looks and perform...      5.0   \n",
       "\n",
       "                                 summary  unixReviewTime   reviewTime  \\\n",
       "0                                   good      1393545600  02 28, 2014   \n",
       "1                                   Jake      1363392000  03 16, 2013   \n",
       "2                   It Does The Job Well      1377648000  08 28, 2013   \n",
       "3          GOOD WINDSCREEN FOR THE MONEY      1392336000  02 14, 2014   \n",
       "4  No more pops when I record my vocals.      1392940800  02 21, 2014   \n",
       "\n",
       "                                     summary_tokens  \\\n",
       "0                                            [good]   \n",
       "1                                            [Jake]   \n",
       "2                        [It, Does, The, Job, Well]   \n",
       "3               [GOOD, WINDSCREEN, FOR, THE, MONEY]   \n",
       "4  [No, more, pops, when, I, record, my, vocals, .]   \n",
       "\n",
       "                                 summary_stemming  \\\n",
       "0                                          [good]   \n",
       "1                                          [jake]   \n",
       "2                       [it, doe, the, job, well]   \n",
       "3             [good, windscreen, for, the, money]   \n",
       "4  [no, more, pop, when, i, record, my, vocal, .]   \n",
       "\n",
       "                            summary_lemmatization  \\\n",
       "0                                          [good]   \n",
       "1                                          [Jake]   \n",
       "2                      [It, Does, The, Job, Well]   \n",
       "3             [GOOD, WINDSCREEN, FOR, THE, MONEY]   \n",
       "4  [No, more, pop, when, I, record, my, vocal, .]   \n",
       "\n",
       "                                         summary_pst  \n",
       "0                                       [(good, JJ)]  \n",
       "1                                       [(Jake, NN)]  \n",
       "2  [(It, PRP), (Does, VBZ), (The, DT), (Job, NNP)...  \n",
       "3  [(GOOD, JJ), (WINDSCREEN, NNP), (FOR, NNP), (T...  \n",
       "4  [(No, DT), (more, RBR), (pops, NNS), (when, WR...  "
      ]
     },
     "execution_count": 20,
     "metadata": {},
     "output_type": "execute_result"
    }
   ],
   "source": [
    "series = [summary_token, summary_stem, summary_lem, summary_pst]\n",
    "names = [\"summary_tokens\", \"summary_stemming\", \"summary_lemmatization\", \"summary_pst\"]\n",
    "add_cols(df, series, names)\n",
    "df.head() #visualize the data"
   ]
  },
  {
   "cell_type": "code",
   "execution_count": null,
   "id": "36c896d7",
   "metadata": {},
   "outputs": [],
   "source": []
  }
 ],
 "metadata": {
  "kernelspec": {
   "display_name": "Python 3 (ipykernel)",
   "language": "python",
   "name": "python3"
  },
  "language_info": {
   "codemirror_mode": {
    "name": "ipython",
    "version": 3
   },
   "file_extension": ".py",
   "mimetype": "text/x-python",
   "name": "python",
   "nbconvert_exporter": "python",
   "pygments_lexer": "ipython3",
   "version": "3.8.10"
  }
 },
 "nbformat": 4,
 "nbformat_minor": 5
}
